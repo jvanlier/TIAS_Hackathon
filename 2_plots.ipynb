{
 "cells": [
  {
   "cell_type": "markdown",
   "metadata": {},
   "source": [
    "We gaan nu leren hoe we eenvoudig plots maken in Python.\n",
    "\n",
    "We moeten eerst `matplotlib` importeren, en Juypyter Notebook informeren dat we de plaatjes in het Notebook willen zien, in plaats van in een apart scherm. Daarvoor moeten we de volgende 2 statements eenmalig uitvoeren:"
   ]
  },
  {
   "cell_type": "code",
   "execution_count": null,
   "metadata": {
    "collapsed": true
   },
   "outputs": [],
   "source": [
    "import matplotlib.pyplot as plt\n",
    "%matplotlib inline"
   ]
  },
  {
   "cell_type": "markdown",
   "metadata": {},
   "source": [
    "We hebben matplotlib nu de naam `plt` gegeven."
   ]
  },
  {
   "cell_type": "markdown",
   "metadata": {},
   "source": [
    "## Een reeks datapunten plotten"
   ]
  },
  {
   "cell_type": "code",
   "execution_count": null,
   "metadata": {
    "collapsed": true
   },
   "outputs": [],
   "source": [
    "data = [1, 2, 3, 3, 4, 4, 4, 5, 5, 5, 5, 6, 6, 6, 7, 7, 8, 8, 9, 10]\n",
    "plt.hist(data)\n",
    "plt.show()"
   ]
  },
  {
   "cell_type": "markdown",
   "metadata": {},
   "source": [
    "## 2 reeksen datapunten plotten"
   ]
  },
  {
   "cell_type": "code",
   "execution_count": null,
   "metadata": {
    "collapsed": true
   },
   "outputs": [],
   "source": [
    "x = [1, 10]\n",
    "y = [1, 10]\n",
    "\n",
    "plt.plot(x, y)\n",
    "plt.xlabel(\"x\")\n",
    "plt.ylabel(\"y\")\n",
    "plt.show()"
   ]
  },
  {
   "cell_type": "markdown",
   "metadata": {},
   "source": [
    "#### Opdrachten\n",
    "\n",
    "1. Pas de getallen aan en kijk wat er gebeurt met de plot. Neem bijvoorbeeld `x = [1, 5, 10, 14]` en `y = [8, 3, 5, 1]`\n",
    "2. Verander `plt.plot` in `plt.scatter`. Wat gebeurt er? Wanneer kies je voor `plot` en wanneer voor `scatter`?"
   ]
  },
  {
   "cell_type": "markdown",
   "metadata": {},
   "source": [
    "### Functies plotten\n",
    "Tot nu toe hebben we alleen getallen geplot die handmatig zijn ingevoerd. Het is ook mogelijk om wiskundige functies / formules te plotten."
   ]
  },
  {
   "cell_type": "code",
   "execution_count": null,
   "metadata": {
    "collapsed": true
   },
   "outputs": [],
   "source": [
    "import numpy as np\n",
    "\n",
    "xs = np.arange(0, 20, 1)  # Een handige manier om snel een getallenreeks te krijgen!\n",
    "xs"
   ]
  },
  {
   "cell_type": "markdown",
   "metadata": {},
   "source": [
    "Neem een rechte lijn, beschreven door de volgende formule:\n",
    "\n",
    "$y = \\text{intercept} + \\text{slope} \\times x$"
   ]
  },
  {
   "cell_type": "code",
   "execution_count": null,
   "metadata": {
    "collapsed": true
   },
   "outputs": [],
   "source": [
    "def y(intercept, slope, x):\n",
    "    return intercept + slope * x"
   ]
  },
  {
   "cell_type": "code",
   "execution_count": null,
   "metadata": {
    "collapsed": true
   },
   "outputs": [],
   "source": [
    "intercept = 0\n",
    "slope = .5\n",
    "\n",
    "plt.title(\"Een rechte lijn\")\n",
    "plt.plot(xs, y(intercept, slope, xs))\n",
    "plt.xlim(0, 20) \n",
    "plt.ylim(0, 10)\n",
    "plt.grid()\n",
    "plt.show()"
   ]
  },
  {
   "cell_type": "markdown",
   "metadata": {},
   "source": [
    "#### Opdrachten\n",
    "- Speel met de `intercept` en `slope` en observeer wat er gebeurt met de lijn.\n",
    "- Hoe krijg je een lijn die precies door de diagonaal loopt? \n",
    "- Hoe krijg je een lijn die exact horizontaal loopt op y = 4?\n",
    "- Wat is het nut van `plt.xlim(...)`, `plt.ylim(...)` en `plt.grid()`? Hint: probeer ze eens 1 voor 1 te veranderen in commentaar door er een hekje (`#`) voor te zetten.\n",
    "- Maak een nieuwe functie voor $y = sin(x) + 5$ en probeer deze op dezelfde wijze te plotten. Maak zelf een nieuwe cel aan met jouw nieuwe functie, en maak zelf een plot (copy-paste is toegestaan 😁). Hint: de sinus functie is te vinden in `numpy`.\n",
    "- De plot die je nu krijgt is vrij hoekig. Wat moet er gebeuren om de lijn vloeiender te krijgen?\n",
    " "
   ]
  },
  {
   "cell_type": "markdown",
   "metadata": {
    "collapsed": true
   },
   "source": [
    "### Bar plot"
   ]
  },
  {
   "cell_type": "code",
   "execution_count": null,
   "metadata": {
    "collapsed": true
   },
   "outputs": [],
   "source": [
    "plt.barh([0, 1], [10, 20])\n",
    "plt.yticks(np.arange(2), [\"A\", \"B\"])\n",
    "plt.show()"
   ]
  },
  {
   "cell_type": "markdown",
   "metadata": {},
   "source": [
    "#### Opdrachten\n",
    "- Verander de kleur van \"A\" in rood en die van \"B\" in groen. Zie voor hulp de [documentatie van `barh`](https://matplotlib.org/api/_as_gen/matplotlib.pyplot.barh.html#matplotlib.pyplot.barh).\n",
    "- Verander de horizontale barplot in een verticale barplot. Zie voor hulp de [documentatie](https://matplotlib.org/api/pyplot_summary.html) van matplotlib.\n",
    "- Voeg een titel toe.\n",
    "- Voor een label toe aan de x-as."
   ]
  },
  {
   "cell_type": "markdown",
   "metadata": {},
   "source": [
    "### We behandelen geen piechart!\n",
    "Wie weet waarom?"
   ]
  }
 ],
 "metadata": {
  "kernelspec": {
   "display_name": "Python 3",
   "language": "python",
   "name": "python3"
  },
  "language_info": {
   "codemirror_mode": {
    "name": "ipython",
    "version": 3
   },
   "file_extension": ".py",
   "mimetype": "text/x-python",
   "name": "python",
   "nbconvert_exporter": "python",
   "pygments_lexer": "ipython3",
   "version": "3.6.1"
  }
 },
 "nbformat": 4,
 "nbformat_minor": 2
}
