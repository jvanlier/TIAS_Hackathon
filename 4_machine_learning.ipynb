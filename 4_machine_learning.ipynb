{
 "cells": [
  {
   "cell_type": "markdown",
   "metadata": {
    "collapsed": true
   },
   "source": [
    "We beginnen op dezelfde wijze als voorheen."
   ]
  },
  {
   "cell_type": "code",
   "execution_count": null,
   "metadata": {
    "collapsed": true
   },
   "outputs": [],
   "source": [
    "import pandas as pd\n",
    "import matplotlib.pyplot as plt\n",
    "%matplotlib inline"
   ]
  },
  {
   "cell_type": "code",
   "execution_count": null,
   "metadata": {
    "collapsed": true
   },
   "outputs": [],
   "source": [
    "df = pd.read_csv('data/houseprices_all.csv')\n",
    "df = df[['SalePrice', 'GrLivArea']]"
   ]
  },
  {
   "cell_type": "markdown",
   "metadata": {},
   "source": [
    "We gaan de `SalePrice` voorspellen. Traditioneel gezien wordt daar de variable `y` voor gebruikt. De `SalePrice` halen we dan weg uit de DataFrame met `drop()`.\n",
    "\n",
    "Bij drop moeten we de juiste as aangeven met `axis`, omdat deze functie standaard op rijen werkt in plaats van met kolommen. Dit kan met `axis=1` of `axis=columns`."
   ]
  },
  {
   "cell_type": "code",
   "execution_count": null,
   "metadata": {
    "collapsed": true
   },
   "outputs": [],
   "source": [
    "y = df.SalePrice\n",
    "df = df.drop('SalePrice', axis='columns')"
   ]
  },
  {
   "cell_type": "code",
   "execution_count": null,
   "metadata": {},
   "outputs": [],
   "source": [
    "df.head()"
   ]
  },
  {
   "cell_type": "markdown",
   "metadata": {},
   "source": [
    "We moeten nu een aantal keuzes maken: wat voor model gebruiken we? En hoe gaan we de fout op onze voorspelling bepalen? \n",
    "\n",
    "Het simpelste model is een linear model; in feite gewoon een rechte lijn zoals we eerder geplot hebben. We gaan de slope en de intercept bepalen met behulp van Machine Learning."
   ]
  },
  {
   "cell_type": "code",
   "execution_count": null,
   "metadata": {
    "collapsed": true
   },
   "outputs": [],
   "source": [
    "from sklearn.linear_model import LinearRegression\n",
    "model = LinearRegression()"
   ]
  },
  {
   "cell_type": "markdown",
   "metadata": {},
   "source": [
    "Dan de inschatting van de fout op de voorspelling. Een intuitieve metric is de \"Mean Absolute Error\", of de gemiddelde absolute fout. Wiskundig ziet deze er zo uit:\n",
    "\n",
    "$\\displaystyle \\textrm{MAE} = \\frac{1}{n} \\sum | \\, y - \\hat{y} \\, \\, |$\n",
    "\n",
    "Waarbij $n$ het aantal rijen is en $\\hat{y}$ de voorspelling. Deze functie hoeven we niet zelf te programeren, maar kunnen we gewoon importeren uit scikit-learn:"
   ]
  },
  {
   "cell_type": "code",
   "execution_count": null,
   "metadata": {
    "collapsed": true
   },
   "outputs": [],
   "source": [
    "from sklearn.metrics import mean_absolute_error"
   ]
  },
  {
   "cell_type": "markdown",
   "metadata": {},
   "source": [
    "N.b.: als we het helemaal goed willen doen, moeten we de dataset splitsen in een \"training-set\", en een \"test-set\". Bijvoorbeeld 70% training en 30% test. De training-set wordt gebruikt om de parameters van het model te bepalen, en de test-set wordt gebruikt om objectief te bepalen hoe goed het model werkt op data dat het model nog niet eerder gezien heeft. Om het simpel te houden doen we dat nu niet, maar let erop dat de mensen onder jouw leiding dit wel doen! Anders is de performance die ze rapporteren waarschijnlijk te optimistisch.\n",
    "\n",
    "Met `fit` worden de parameters van het model bepaald. Het eerste argument is de training data en het tweede argument bevat de uitkomsten:"
   ]
  },
  {
   "cell_type": "code",
   "execution_count": null,
   "metadata": {},
   "outputs": [],
   "source": [
    "model.fit(df, y)"
   ]
  },
  {
   "cell_type": "markdown",
   "metadata": {},
   "source": [
    "En voorspel $\\hat{y}$:"
   ]
  },
  {
   "cell_type": "code",
   "execution_count": null,
   "metadata": {
    "collapsed": true
   },
   "outputs": [],
   "source": [
    "y_hat = model.predict(df)"
   ]
  },
  {
   "cell_type": "markdown",
   "metadata": {},
   "source": [
    "#### Opdracht\n",
    "Bereken de MAE:"
   ]
  },
  {
   "cell_type": "code",
   "execution_count": null,
   "metadata": {
    "collapsed": true
   },
   "outputs": [],
   "source": []
  },
  {
   "cell_type": "markdown",
   "metadata": {},
   "source": [
    "## Plot van ons model"
   ]
  },
  {
   "cell_type": "code",
   "execution_count": null,
   "metadata": {},
   "outputs": [],
   "source": [
    "slope = model.coef_[0]\n",
    "intercept = model.intercept_\n",
    "print(slope, intercept)"
   ]
  },
  {
   "cell_type": "markdown",
   "metadata": {},
   "source": [
    "We hebben nu de `slope` en de `intercept` te pakken. Eerder hebben we deze gebruikt om een plot te maken. Laten we dat nogmaals doen!\n",
    "\n",
    "#### Opdracht\n",
    "- Beschrijf (aan je partner, of aan jezelf) hoe je deze `slope` en `intercept` kan interpreteren.\n",
    "- Maak een plot van het lineare model. y-as: SalePrice, x-as: GrLivArea. Hint: copy-paste code uit eerdere Notebooks.\n",
    "- Zet in dezelde plot ook een scatter van de orignele data."
   ]
  },
  {
   "cell_type": "code",
   "execution_count": null,
   "metadata": {
    "collapsed": true
   },
   "outputs": [],
   "source": []
  },
  {
   "cell_type": "markdown",
   "metadata": {},
   "source": [
    "#### Opdracht\n",
    "Noteer je observaties! Hoe goed is deze \"fit\"? Kunnen we dit gebruiken om een redelijke inschatting te maken van de prijs van een huis, als we alleen de vierkante meters weten van de woonkamer?"
   ]
  },
  {
   "cell_type": "markdown",
   "metadata": {},
   "source": [
    "# Complexere modellen\n",
    "Beslisbomen kunnen ook gebruikt worden om getallen te voorspellen. Een model dat vaak zonder veel inspanning goede resultaten oplevert is de Random Forest.\n",
    "\n",
    "#### Opdracht\n",
    "Pas de Random Forest toe op dit probleem. Wat doet dit met de MAE? Deze is te importeren op de volgende wijze: `from sklearn.ensemble import RandomForestRegressor`"
   ]
  },
  {
   "cell_type": "code",
   "execution_count": null,
   "metadata": {
    "collapsed": true
   },
   "outputs": [],
   "source": []
  },
  {
   "cell_type": "markdown",
   "metadata": {},
   "source": [
    "#### Opdracht\n",
    "Probeer ook een ander model. Zie http://scikit-learn.org/stable/tutorial/machine_learning_map/index.html voor een overzicht."
   ]
  },
  {
   "cell_type": "code",
   "execution_count": null,
   "metadata": {
    "collapsed": true
   },
   "outputs": [],
   "source": []
  },
  {
   "cell_type": "markdown",
   "metadata": {},
   "source": [
    "# Splitsen in train-set en test-set"
   ]
  },
  {
   "cell_type": "markdown",
   "metadata": {},
   "source": [
    "#### Opdracht\n",
    "Splits de data in een train-set en een test-set. Zie http://scikit-learn.org/stable/modules/generated/sklearn.model_selection.train_test_split.html voor een voorbeeld. Probeer een model te trainen op de train-set, en evalueer de score op zowel de train-set als de test-set. Wat valt je op?"
   ]
  },
  {
   "cell_type": "code",
   "execution_count": null,
   "metadata": {
    "collapsed": true
   },
   "outputs": [],
   "source": []
  },
  {
   "cell_type": "markdown",
   "metadata": {},
   "source": [
    "# Meer variablen toevoegen\n",
    "\n",
    "Er zitten nog veel meer interessante variabelen in deze dataset! Voorheen hadden we al naar de `OverallQual` gekeken.\n",
    "\n",
    "#### Opdracht\n",
    "Probeer de 'OverallQual' eens toe te voegen en observeer wat dit met de MAE (op de test-set) doet."
   ]
  },
  {
   "cell_type": "code",
   "execution_count": null,
   "metadata": {
    "collapsed": true
   },
   "outputs": [],
   "source": []
  },
  {
   "cell_type": "markdown",
   "metadata": {},
   "source": [
    "# Bonus: Resultaten insturen op Kaggle\n",
    "\n",
    "#### Opdracht\n",
    "Maak een account aan op www.kaggle.com en ga naar https://www.kaggle.com/c/house-prices-advanced-regression-techniques.\n",
    "\n",
    "Om jouw voorspellingen in te sturen, moet je de Kaggle-testset downloaden (test.csv) en deze met `df_kaggle_test = pd.read_csv('data/test.csv')` laden. Zorg dat je dezelfde kolommen selecteert (in dezelfde volgorde) als voor de trainingset, met 1 verschil: neem ook de `Id` kolom mee, want deze moeten we insturen naar Kaggle. Zet deze in een aparte variabele genaamd `submission_ids` en drop deze uit de DataFrame, net zoals we bij de training-set deden met de `SalePrice` kolom.\n",
    "\n",
    "Roep de `predict()` functie van het model aan met deze DataFrame en ken het resultaat toe aan `kaggle_test_yhat`. Daarin zitten nu de voorspelde huisprijzen. Deze moeten we nu weer samenvoegen met de `Id`s en opslaan als CSV. Dat doe je als volgt:\n",
    "\n",
    "    df_submission = pd.DataFrame({'Id': submission_ids, 'SalePrice': kaggle_test_yhat})\n",
    "    df_submission.to_csv('submission.csv', index=False)\n",
    "\n",
    "Hoe goed doe jij het, ten opzichte van de rest?"
   ]
  },
  {
   "cell_type": "code",
   "execution_count": null,
   "metadata": {
    "collapsed": true
   },
   "outputs": [],
   "source": []
  }
 ],
 "metadata": {
  "kernelspec": {
   "display_name": "Python 3",
   "language": "python",
   "name": "python3"
  },
  "language_info": {
   "codemirror_mode": {
    "name": "ipython",
    "version": 3
   },
   "file_extension": ".py",
   "mimetype": "text/x-python",
   "name": "python",
   "nbconvert_exporter": "python",
   "pygments_lexer": "ipython3",
   "version": "3.6.1"
  }
 },
 "nbformat": 4,
 "nbformat_minor": 2
}
