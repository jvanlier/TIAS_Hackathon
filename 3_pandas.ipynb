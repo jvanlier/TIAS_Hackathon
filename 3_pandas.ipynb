{
 "cells": [
  {
   "cell_type": "markdown",
   "metadata": {
    "collapsed": true
   },
   "source": [
    "Met `pandas` kunnen we heel eenvoudig CSV's en Excel bestanden inlezen. We gaan nu aan de slag met een dataset van huizenprijzen."
   ]
  },
  {
   "cell_type": "code",
   "execution_count": null,
   "metadata": {
    "collapsed": true
   },
   "outputs": [],
   "source": [
    "import pandas as pd\n",
    "import matplotlib.pyplot as plt\n",
    "%matplotlib inline"
   ]
  },
  {
   "cell_type": "markdown",
   "metadata": {},
   "source": [
    "We hebben pandas geimporteerd met de naam `pd` (zie de cel hierboven). De pandas functies zijn daarmee aan te roepen door eerst `pd.` te typen. Probeer eens `pd.r<TAB>` in te typen:"
   ]
  },
  {
   "cell_type": "code",
   "execution_count": null,
   "metadata": {
    "collapsed": true
   },
   "outputs": [],
   "source": []
  },
  {
   "cell_type": "markdown",
   "metadata": {},
   "source": [
    "De `<TAB>` werkt dan als een auto-complete en geeft een hele lijst met pandas functies die beginnen met `r`. Het bestand dat we willen inlezen is een CSV bestand (Comma Separated Values), dus we gaan voor `read_csv`:"
   ]
  },
  {
   "cell_type": "code",
   "execution_count": null,
   "metadata": {
    "collapsed": true
   },
   "outputs": [],
   "source": [
    "df = pd.read_csv('data/houseprices_all.csv')"
   ]
  },
  {
   "cell_type": "markdown",
   "metadata": {},
   "source": [
    "Vergeet dit bestand niet te downloaden en op de juiste plek te zetten!\n",
    "\n",
    "We houden het nog even simpel en kiezen alleen deze kolommen:"
   ]
  },
  {
   "cell_type": "code",
   "execution_count": null,
   "metadata": {
    "collapsed": true
   },
   "outputs": [],
   "source": [
    "df = df[['SalePrice', 'GrLivArea', 'OverallQual']]"
   ]
  },
  {
   "cell_type": "markdown",
   "metadata": {},
   "source": [
    "Hoe zien de eerste 5 regels eruit?"
   ]
  },
  {
   "cell_type": "code",
   "execution_count": null,
   "metadata": {
    "collapsed": true
   },
   "outputs": [],
   "source": [
    "df.head()"
   ]
  },
  {
   "cell_type": "markdown",
   "metadata": {},
   "source": [
    "#### Opdrachten\n",
    "- Kijk eens naar de eerste 10 rijen in plaats van naar de eerste 5. Hint: ga met de cursor tussen de haakjes staan van head() in de cel hierboven en druk op `<SHIFT>-<TAB>`.\n",
    "- Hoeveel rijen zijn er? Probeer dit toe te kennen aan variabele `n` met de functie `len()`:"
   ]
  },
  {
   "cell_type": "code",
   "execution_count": null,
   "metadata": {
    "collapsed": true
   },
   "outputs": [],
   "source": [
    "n =  # Vul hier aan\n",
    "print(f\"Er zijn {n} rijen\")"
   ]
  },
  {
   "cell_type": "markdown",
   "metadata": {},
   "source": [
    "Met wat voor data hebben we eigenlijk te maken? Laten we eens op onderzoek uit gaan."
   ]
  },
  {
   "cell_type": "code",
   "execution_count": null,
   "metadata": {
    "collapsed": true
   },
   "outputs": [],
   "source": [
    "df.describe()"
   ]
  },
  {
   "cell_type": "markdown",
   "metadata": {},
   "source": [
    "De bekende statistieken: gemiddelden, standaarddeviaties, laagste en hoogste waarde. \n",
    "\n",
    "Wie weet waar 25%, 50% en 75% voor staan?\n",
    "\n",
    "## Plots\n",
    "Laten we wat plaatjes maken!\n",
    "\n",
    "Matplotlib heeft sinds kort integratie met Pandas, dus we kunnen gewoon de naam van de kolom doorgeven. Zo maak je een histogram:"
   ]
  },
  {
   "cell_type": "code",
   "execution_count": null,
   "metadata": {
    "collapsed": true
   },
   "outputs": [],
   "source": [
    "plt.hist('SalePrice', data=df, bins=25)\n",
    "plt.show()"
   ]
  },
  {
   "cell_type": "markdown",
   "metadata": {},
   "source": [
    "Wat zegt deze histogram je over de verdeling van huizenprijzen?"
   ]
  },
  {
   "cell_type": "markdown",
   "metadata": {},
   "source": [
    "#### Opdracht\n",
    "Maak een plot om de relatie tussen `SalePrice` en `GrLivArea` te bepalen. Is er een correlatie?\n",
    "\n",
    "Kijk desnoods in de Notebook waar we hiervoor in hebben gewerkt voor inspiratie, en kijk goed naar de manier waarop `plt.hist` is aangeroepen hierboven om de matplotlib-pandas integratie te begrijpen."
   ]
  },
  {
   "cell_type": "code",
   "execution_count": null,
   "metadata": {
    "collapsed": true
   },
   "outputs": [],
   "source": []
  },
  {
   "cell_type": "markdown",
   "metadata": {},
   "source": [
    "En tussen `OverallQual` en `GrLivArea`?"
   ]
  },
  {
   "cell_type": "code",
   "execution_count": null,
   "metadata": {
    "collapsed": true
   },
   "outputs": [],
   "source": []
  },
  {
   "cell_type": "markdown",
   "metadata": {},
   "source": [
    "Zulke correlaties kunnen ook eenvoudig numeriek worden berekend met de functie `corr()`. Deze functie moet worden uitgevoerd \"op\" de DataFrame, zoals `describe()` hierboven.\n",
    "\n",
    "#### Opdracht\n",
    "Bereken correlaties tussen de variabelen."
   ]
  },
  {
   "cell_type": "code",
   "execution_count": null,
   "metadata": {
    "collapsed": true
   },
   "outputs": [],
   "source": []
  },
  {
   "cell_type": "markdown",
   "metadata": {},
   "source": [
    "Pandas maakt het leven van Data Scientists makkelijker. In plaats van handmatig zulke plots maken, kan je ook gebruik maken van `pd.plotting.scatter_matrix`. \n",
    "\n",
    "#### Opdracht\n",
    "Plot een scatter matrix:"
   ]
  },
  {
   "cell_type": "code",
   "execution_count": null,
   "metadata": {
    "collapsed": true
   },
   "outputs": [],
   "source": []
  },
  {
   "cell_type": "markdown",
   "metadata": {},
   "source": [
    "#### Opdracht\n",
    "Dat is wel erg klein! Probeer 'm groter te maken met het argument `figsize`. De \"spam\" kun je oplossen door de cel te eindigen met `plt.show()`."
   ]
  },
  {
   "cell_type": "code",
   "execution_count": null,
   "metadata": {
    "collapsed": true
   },
   "outputs": [],
   "source": []
  },
  {
   "cell_type": "markdown",
   "metadata": {},
   "source": [
    "### Groeperen\n",
    "De 'groupby' operatie is een hele krachtige manier om geaggregeerde waarden te berekenen. Wat als we nu bijvoorbeeld gemiddelde prijzen willen zien per kwaliteitsniveau? Dat gaat zo:"
   ]
  },
  {
   "cell_type": "code",
   "execution_count": null,
   "metadata": {
    "collapsed": true
   },
   "outputs": [],
   "source": [
    "df.groupby('OverallQual').agg('mean')"
   ]
  },
  {
   "cell_type": "markdown",
   "metadata": {},
   "source": [
    "#### Opdracht\n",
    "Zoek nu de min en de max per groep. Hint: De `agg()` functie krijgt nu een string mee als argument, maar accepteert ook een lijst van strings."
   ]
  },
  {
   "cell_type": "code",
   "execution_count": null,
   "metadata": {
    "collapsed": true
   },
   "outputs": [],
   "source": []
  }
 ],
 "metadata": {
  "kernelspec": {
   "display_name": "Python 3",
   "language": "python",
   "name": "python3"
  },
  "language_info": {
   "codemirror_mode": {
    "name": "ipython",
    "version": 3
   },
   "file_extension": ".py",
   "mimetype": "text/x-python",
   "name": "python",
   "nbconvert_exporter": "python",
   "pygments_lexer": "ipython3",
   "version": "3.6.1"
  }
 },
 "nbformat": 4,
 "nbformat_minor": 2
}
