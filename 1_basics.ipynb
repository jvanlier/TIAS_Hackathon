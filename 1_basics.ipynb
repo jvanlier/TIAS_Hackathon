{
 "cells": [
  {
   "cell_type": "markdown",
   "metadata": {},
   "source": [
    "# Python Basics\n",
    "\n",
    "- Voor: TIAS, 8 december 2017\n",
    "- Auteur: Jori van Lier\n",
    "\n",
    "Instructie: voer elke cel uit met CTRL-Enter of Shift-Enter. Kijk naar het resultaat en probeer te begrijpen wat er gebeurt. Voel je vrij om dingen aan te passen en zelf te experimenteren. Volg de instructies onder de kopjes **\"Opdracht\"**."
   ]
  },
  {
   "cell_type": "markdown",
   "metadata": {},
   "source": [
    "### Hello World!"
   ]
  },
  {
   "cell_type": "code",
   "execution_count": null,
   "metadata": {
    "collapsed": true
   },
   "outputs": [],
   "source": [
    "print(\"Hello World\")"
   ]
  },
  {
   "cell_type": "code",
   "execution_count": null,
   "metadata": {
    "collapsed": true
   },
   "outputs": [],
   "source": [
    "# Dit is commentaar"
   ]
  },
  {
   "cell_type": "markdown",
   "metadata": {},
   "source": [
    "### Rekenen"
   ]
  },
  {
   "cell_type": "code",
   "execution_count": null,
   "metadata": {
    "collapsed": true
   },
   "outputs": [],
   "source": [
    "5 + 3"
   ]
  },
  {
   "cell_type": "code",
   "execution_count": null,
   "metadata": {
    "collapsed": true
   },
   "outputs": [],
   "source": [
    "5 - 3"
   ]
  },
  {
   "cell_type": "code",
   "execution_count": null,
   "metadata": {
    "collapsed": true
   },
   "outputs": [],
   "source": [
    "5 / 3"
   ]
  },
  {
   "cell_type": "code",
   "execution_count": null,
   "metadata": {
    "collapsed": true
   },
   "outputs": [],
   "source": [
    "5 / (3 - 1)"
   ]
  },
  {
   "cell_type": "code",
   "execution_count": null,
   "metadata": {
    "collapsed": true
   },
   "outputs": [],
   "source": [
    "5 * 3"
   ]
  },
  {
   "cell_type": "code",
   "execution_count": null,
   "metadata": {
    "collapsed": true
   },
   "outputs": [],
   "source": [
    "10 ** 3"
   ]
  },
  {
   "cell_type": "markdown",
   "metadata": {},
   "source": [
    "Wat is `**` voor operator?"
   ]
  },
  {
   "cell_type": "markdown",
   "metadata": {},
   "source": [
    "#### Opdracht\n",
    "Bereken het volgende: $\\displaystyle \\frac{2^8 + 10}{2}$\n",
    "\n",
    "Typ je Python code in de cel hieronder:"
   ]
  },
  {
   "cell_type": "code",
   "execution_count": null,
   "metadata": {
    "collapsed": true
   },
   "outputs": [],
   "source": []
  },
  {
   "cell_type": "markdown",
   "metadata": {},
   "source": [
    "### Iets geavanceerder rekenen...\n",
    "Met numpy! Numpy is een Python pakket voor efficiente numerieke berekeningen. Python is in de basis vrij langzaam, maar de functies in Numpy zijn geschreven in snelle gecompileerde code."
   ]
  },
  {
   "cell_type": "code",
   "execution_count": null,
   "metadata": {
    "collapsed": true
   },
   "outputs": [],
   "source": [
    "import numpy as np"
   ]
  },
  {
   "cell_type": "markdown",
   "metadata": {},
   "source": [
    "Numpy is nu geimporteerd onder de naam `np`."
   ]
  },
  {
   "cell_type": "code",
   "execution_count": null,
   "metadata": {
    "collapsed": true
   },
   "outputs": [],
   "source": [
    "np.log10(1000)"
   ]
  },
  {
   "cell_type": "code",
   "execution_count": null,
   "metadata": {
    "collapsed": true
   },
   "outputs": [],
   "source": [
    "np.sqrt(9)"
   ]
  },
  {
   "cell_type": "markdown",
   "metadata": {},
   "source": [
    "#### Opdracht\n",
    "\n",
    "Bereken het volgende, gebruikmakende van Numpy: $\\log_2(8) = 3$, in de volgende cel:"
   ]
  },
  {
   "cell_type": "code",
   "execution_count": null,
   "metadata": {
    "collapsed": true
   },
   "outputs": [],
   "source": []
  },
  {
   "cell_type": "markdown",
   "metadata": {},
   "source": [
    "De *key takeaway*: je kan Python gebruiken als een interactieve rekenmachine! In tegenstelling tot veel andere programmeertalen (zoals C++) kun je Python code direct uitvoeren in een interactieve sessie, zonder eerst te moeten compileren."
   ]
  },
  {
   "cell_type": "markdown",
   "metadata": {
    "collapsed": true
   },
   "source": [
    "### Variabelen"
   ]
  },
  {
   "cell_type": "code",
   "execution_count": null,
   "metadata": {
    "collapsed": true
   },
   "outputs": [],
   "source": [
    "x = 5"
   ]
  },
  {
   "cell_type": "code",
   "execution_count": null,
   "metadata": {
    "collapsed": true
   },
   "outputs": [],
   "source": [
    "x"
   ]
  },
  {
   "cell_type": "code",
   "execution_count": null,
   "metadata": {
    "collapsed": true
   },
   "outputs": [],
   "source": [
    "type(x)"
   ]
  },
  {
   "cell_type": "code",
   "execution_count": null,
   "metadata": {
    "collapsed": true
   },
   "outputs": [],
   "source": [
    "x = x * 3\n",
    "x"
   ]
  },
  {
   "cell_type": "markdown",
   "metadata": {},
   "source": [
    "#### Opdrachten\n",
    "\n",
    "1. Wat gebeurt er als je 5 verandert in 5.5?\n",
    "2. Wat gebeurt er als je 5.5 verandert in \"a\"?"
   ]
  },
  {
   "cell_type": "markdown",
   "metadata": {},
   "source": [
    "### Functies\n",
    "\n",
    "Met een functie kan je berekeningen of operaties \"inpakken\", een naam geven en later zo vaak als je wilt uitvoeren."
   ]
  },
  {
   "cell_type": "code",
   "execution_count": null,
   "metadata": {
    "collapsed": true
   },
   "outputs": [],
   "source": [
    "def print_hello(name):\n",
    "    print(\"Hello \" + name)"
   ]
  },
  {
   "cell_type": "code",
   "execution_count": null,
   "metadata": {
    "collapsed": true
   },
   "outputs": [],
   "source": [
    "print_hello(\"?\")"
   ]
  },
  {
   "cell_type": "markdown",
   "metadata": {},
   "source": [
    "#### Opdrachten\n",
    "\n",
    "1. Vervang hierboven het vraagteken door je eigen naam.\n",
    "2. Vul hieronder de functie aan, zodat deze het volgende berekent: $f(x) = 3 \\times x^2 + 42$\n",
    "\n",
    "Let op het inspringen als je binnen een functie werkt. Na een `:` spring je doorgaans exact 4 spaties in. Jupyter notebook helpt je hierbij."
   ]
  },
  {
   "cell_type": "code",
   "execution_count": null,
   "metadata": {
    "collapsed": true
   },
   "outputs": [],
   "source": [
    "def f(x):\n",
    "    return 3  # Hier aanvullen!\n",
    "\n",
    "assert f(2) == 54"
   ]
  },
  {
   "cell_type": "markdown",
   "metadata": {},
   "source": [
    "N.b.: met `return` kan je een functie een resultaat laten teruggeven. Dit is niet verplicht! De functie stopt zodra de `return` statement is uitgevoerd.\n",
    "\n",
    "De `assert` statement controleert of de functie het juiste resultaat teruggeeft. Is dat niet zo, dan zie je een `AssertionError` verschijnen."
   ]
  },
  {
   "cell_type": "markdown",
   "metadata": {},
   "source": [
    "### Booleanse algebra\n",
    "We gaan nu `True` en `False` gebruiken (let op de hoofdletter aan het begin van het woord!) om logische statements op te bouwen. Deze zijn te combineren met de keywords `and` en `or`. "
   ]
  },
  {
   "cell_type": "code",
   "execution_count": null,
   "metadata": {
    "collapsed": true
   },
   "outputs": [],
   "source": [
    "regen = True  # Laten we aannemen dat het regent vandaag\n",
    "print(type(regen))\n",
    "print(regen)"
   ]
  },
  {
   "cell_type": "code",
   "execution_count": null,
   "metadata": {
    "collapsed": true
   },
   "outputs": [],
   "source": [
    "def is_het_golfweer(regen):\n",
    "    if regen:\n",
    "        return False\n",
    "    else:\n",
    "        return True\n",
    "\n",
    "print(\"Stelling: het is vandaag golfweer. Dit is \" + str(is_het_golfweer(regen)))"
   ]
  },
  {
   "cell_type": "markdown",
   "metadata": {},
   "source": [
    "We gaan dus niet golfen als het regent!\n",
    "\n",
    "#### Opdracht\n",
    "- Voeg variabele `veel_wind` toe hierboven. Neem aan dat als teminste één van deze twee condities waar is, we niet gaan golfen.\n",
    "- Probeer nu de conditie in de `if` statement om te draaien: gebruik i.p.v. `or` een combinatie van `and` en `not`. Klopt de uitkomst nog?\n"
   ]
  },
  {
   "cell_type": "markdown",
   "metadata": {},
   "source": [
    "### Lijsten"
   ]
  },
  {
   "cell_type": "code",
   "execution_count": null,
   "metadata": {
    "collapsed": true
   },
   "outputs": [],
   "source": [
    "lijst = [5, 3, 4, 2, 1]\n",
    "lijst"
   ]
  },
  {
   "cell_type": "code",
   "execution_count": null,
   "metadata": {
    "collapsed": true
   },
   "outputs": [],
   "source": [
    "type(lijst)"
   ]
  },
  {
   "cell_type": "code",
   "execution_count": null,
   "metadata": {
    "collapsed": true
   },
   "outputs": [],
   "source": [
    "lijst.append(\"tias\")\n",
    "lijst"
   ]
  },
  {
   "cell_type": "code",
   "execution_count": null,
   "metadata": {
    "collapsed": true
   },
   "outputs": [],
   "source": [
    "lijst.pop()\n",
    "lijst"
   ]
  },
  {
   "cell_type": "markdown",
   "metadata": {},
   "source": [
    "#### Opdracht\n",
    "Sorteer de lijst met behulp van de functie `sorted()`. Deze functie accepteert een lijst als input en geeft een gesorteerde lijst terug als output."
   ]
  },
  {
   "cell_type": "code",
   "execution_count": null,
   "metadata": {
    "collapsed": true
   },
   "outputs": [],
   "source": [
    "?sorted  # Zo kan je om hulp vragen in Jupyter."
   ]
  },
  {
   "cell_type": "code",
   "execution_count": null,
   "metadata": {
    "collapsed": true
   },
   "outputs": [],
   "source": [
    "gesorteerde_lijst = # Vul hier aan!"
   ]
  },
  {
   "cell_type": "markdown",
   "metadata": {},
   "source": [
    "### for-loop\n",
    "Met een `for`-loop kan je een operatie uitvoeren op elk element van een lijst. Bijvoorbeeld de inhoud printen:"
   ]
  },
  {
   "cell_type": "code",
   "execution_count": null,
   "metadata": {
    "collapsed": true
   },
   "outputs": [],
   "source": [
    "for item in gesorteerde_lijst:\n",
    "    print(item)"
   ]
  },
  {
   "cell_type": "markdown",
   "metadata": {},
   "source": [
    "#### Opdracht\n",
    "\n",
    "Evalueer functie `f()` voor elk element in `gesorteerde_lijst` door een `for`-loop te gebruiken. Print het resultaat."
   ]
  },
  {
   "cell_type": "code",
   "execution_count": null,
   "metadata": {
    "collapsed": true
   },
   "outputs": [],
   "source": [
    "# Typ hier je uitwerking:"
   ]
  }
 ],
 "metadata": {
  "kernelspec": {
   "display_name": "Python 3",
   "language": "python",
   "name": "python3"
  },
  "language_info": {
   "codemirror_mode": {
    "name": "ipython",
    "version": 3
   },
   "file_extension": ".py",
   "mimetype": "text/x-python",
   "name": "python",
   "nbconvert_exporter": "python",
   "pygments_lexer": "ipython3",
   "version": "3.6.1"
  }
 },
 "nbformat": 4,
 "nbformat_minor": 2
}
